import pandas as pd
import numpy as np
from sklearn.svm import SVR
import matplotlib.pyplot as plt
from sklearn.metrics import mean_squared_error, r2_score
from sklearn.model_selection import GridSearchCV


# -------------------- Load data from a CSV file
train_data = pd.read_csv('normalized_train_data.csv')
test_data = pd.read_csv('normalized_test_data.csv')


# ------------------ let's consider columns 'Column1' and 'Column2'
column1 = 'input3'
column2 = 'output'

# ------------------ Extract the data for the selected columns
X_train = train_data[column1].values.reshape(-1, 1) 
y_train = train_data[column2].values

# ------------------ Select data for testing
X_test = test_data[column1].values.reshape(-1, 1)
y_test = test_data[column2].values 


# ------- Define the grid of parameters to search (C, gamma, epsilon)
param_grid = {
    'C': [0.1, 1.0, 10.0],
    'gamma': [0.1, 0.5, 1.0],
    'epsilon': [0.1, 0.2, 0.3]
}

# -------------------- Create SVR Model
svr = SVR(kernel='rbf')
# -------------------- C is a regularization parameter.
# -------------------- epsilon sets the width of the epsilon-tube.

# Create GridSearchCV object
grid_search = GridSearchCV(estimator=svr, param_grid=param_grid,
                           cv=3, scoring='r2')#'neg_mean_squared_error'


# Fit the GridSearchCV object
grid_search.fit(X_train, y_train)


#--------------------- Create Table
# Get the results of grid search
results = pd.DataFrame(grid_search.cv_results_)

# Extract columns of interest
columns_of_interest = ['param_C', 'param_gamma', 'param_epsilon',
                       'mean_test_score']
results_subset = results[columns_of_interest]

# Highlight the best model's row
best_model_row_index = grid_search.best_index_
best_model_row = results.loc[best_model_row_index, [
    'param_C', 'param_gamma', 'param_epsilon', 'mean_test_score']]
best_model_row_df = pd.DataFrame(best_model_row).transpose()

# Create a table to display the best result
fig, ax = plt.subplots(figsize=(8, 4))
ax.axis('off')
ax.table(cellText=best_model_row_df.values,
         colLabels=best_model_row_df.columns,
         loc='center', cellLoc='center',
         colColours=['lightgreen']*len(
             best_model_row_df.columns))

ax.set_title(f'Best Hyperparameters for {column1} vs {column2}',
             x=0.5, y=0.6, fontsize=10)

# Save the table as an image
plt.savefig(f'Best HP_{column1} vs {column2}.png',
            bbox_inches='tight', pad_inches=0.3)
print(results_subset)
results_subset.to_csv(f'grid_search_{column1} vs {column2}.csv', index=False)

#-----------------
# Get the best parameters
best_params = grid_search.best_params_
print("Best Parameters:", best_params)

# Get the best model
best_model = grid_search.best_estimator_

# -------------------- Make Predictions on the testing data
y_pred_best  = best_model.predict(X_test)


# -------------------- Evaluation (Error)
# Calculate the Mean Squared Error
mse_best = mean_squared_error(y_test, y_pred_best )

# Calculate R-squared(coefficient of determination)
r2_best = r2_score(y_test, y_pred_best )

print(f"Mean Squared Error: {mse_best}")
print(f"R-squared: {r2_best}")

# Calculate residuals
residuals = y_test - y_pred_best

# Calculate standard deviation of residuals
std_deviation = np.std(residuals)

# ------------------- Create the scatter plot
plt.figure()
plt.scatter(X_train, y_train, label='Data points')
plt.xlabel(column1)
plt.ylabel(column2)


# ------------------Plotting the linear regression line
plt.scatter(X_test, y_pred_best, color='red', label='SVM Model')

# Show legend
plt.legend(loc='upper center', bbox_to_anchor=(0.5, 1.11),
          fancybox=True, shadow=True, ncol=5)

props = dict(boxstyle='round', facecolor='red', alpha=0.15)
# Displaying Error values on the plot
plt.text(0.85, -0.1,
         f'MSE = {mse_best:.3f} / r2 ={r2_best:.3f}',
         verticalalignment='top', horizontalalignment='center',
         transform=plt.gca().transAxes,
         bbox = props, fontsize=10)

# save the plot
plt.savefig(f'SVM_{column1} vs {column2}.png', dpi=150,
            bbox_inches='tight')

# Show the plot
plt.show()